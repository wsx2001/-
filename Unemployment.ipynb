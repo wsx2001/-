{
 "cells": [
  {
   "cell_type": "code",
   "execution_count": 1,
   "metadata": {},
   "outputs": [],
   "source": [
    "import pandas as pd\n",
    "import numpy as np"
   ]
  },
  {
   "cell_type": "code",
   "execution_count": 2,
   "metadata": {},
   "outputs": [],
   "source": [
    "data = pd.read_csv(\"./data/Unemployment in America Per US State.csv\")"
   ]
  },
  {
   "cell_type": "code",
   "execution_count": 3,
   "metadata": {},
   "outputs": [
    {
     "name": "stdout",
     "output_type": "stream",
     "text": [
      "<class 'pandas.core.frame.DataFrame'>\n",
      "RangeIndex: 29892 entries, 0 to 29891\n",
      "Data columns (total 11 columns):\n",
      " #   Column                                                     Non-Null Count  Dtype  \n",
      "---  ------                                                     --------------  -----  \n",
      " 0   FIPS Code                                                  29892 non-null  int64  \n",
      " 1   State/Area                                                 29892 non-null  object \n",
      " 2   Year                                                       29892 non-null  int64  \n",
      " 3   Month                                                      29892 non-null  int64  \n",
      " 4   Total Civilian Non-Institutional Population in State/Area  29892 non-null  object \n",
      " 5   Total Civilian Labor Force in State/Area                   29892 non-null  object \n",
      " 6   Percent (%) of State/Area's Population                     29892 non-null  float64\n",
      " 7   Total Employment in State/Area                             29892 non-null  object \n",
      " 8   Percent (%) of Labor Force Employed in State/Area          29892 non-null  float64\n",
      " 9   Total Unemployment in State/Area                           29892 non-null  object \n",
      " 10  Percent (%) of Labor Force Unemployed in State/Area        29892 non-null  float64\n",
      "dtypes: float64(3), int64(3), object(5)\n",
      "memory usage: 2.5+ MB\n"
     ]
    }
   ],
   "source": [
    "data.info()"
   ]
  },
  {
   "cell_type": "code",
   "execution_count": null,
   "metadata": {},
   "outputs": [],
   "source": []
  }
 ],
 "metadata": {
  "kernelspec": {
   "display_name": "base",
   "language": "python",
   "name": "python3"
  },
  "language_info": {
   "codemirror_mode": {
    "name": "ipython",
    "version": 3
   },
   "file_extension": ".py",
   "mimetype": "text/x-python",
   "name": "python",
   "nbconvert_exporter": "python",
   "pygments_lexer": "ipython3",
   "version": "3.8.8"
  },
  "orig_nbformat": 4
 },
 "nbformat": 4,
 "nbformat_minor": 2
}
